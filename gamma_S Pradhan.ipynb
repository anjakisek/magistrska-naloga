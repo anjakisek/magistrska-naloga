{
 "cells": [
  {
   "cell_type": "code",
   "execution_count": 152,
   "metadata": {},
   "outputs": [
    {
     "data": {
      "image/png": "[encoded data removed]",
      "text/plain": [
       "Graphics object consisting of 24 graphics primitives"
      ]
     },
     "execution_count": 152,
     "metadata": {},
     "output_type": "execute_result"
    }
   ],
   "source": [
    "G = Graph({\n",
    "    \"a\" : [9],\n",
    "    \"b\" : [9],\n",
    "    \"c\" : [12],\n",
    "    \"d\" : [5],\n",
    "    \"e\" : [5],\n",
    "    \"f\" : [5],\n",
    "    \"g\" : [8],\n",
    "    12: [\"c\", 10],\n",
    "    10: [9, 8, 12],\n",
    "    9: [\"a\", \"b\", 10],\n",
    "    8: [\"g\", 5, 10],\n",
    "    5:[\"d\", \"e\", \"f\", 8]\n",
    "    \n",
    "})\n",
    "\n",
    "dict = {\n",
    "    5: True,\n",
    "    8: False,\n",
    "    9: False,\n",
    "    10: True,\n",
    "    12: False\n",
    "       }\n",
    "\n",
    "plot(G, layout='tree', tree_root=12)"
   ]
  },
  {
   "cell_type": "code",
   "execution_count": 150,
   "metadata": {},
   "outputs": [
    {
     "data": {
      "image/png": "[encoded data removed]",
      "text/plain": [
       "Graphics object consisting of 28 graphics primitives"
      ]
     },
     "execution_count": 150,
     "metadata": {},
     "output_type": "execute_result"
    }
   ],
   "source": [
    "H = Graph({\n",
    "    \"a\" : [13],\n",
    "    \"b\" : [13],\n",
    "    \"c\" : [12],\n",
    "    \"d\" : [12],\n",
    "    \"e\" : [6],\n",
    "    \"f\" : [6],\n",
    "    \"g\" : [5],\n",
    "    \"h\" : [5],\n",
    "    14: [13, 12, 11],\n",
    "    13: [\"a\", \"b\", 14],\n",
    "    12: [\"c\", \"d\", 14],\n",
    "    11: [6, 5, 14],\n",
    "    6: [\"e\", \"f\", 11],\n",
    "    5:[\"g\", \"h\", 11]\n",
    "    \n",
    "})\n",
    "\n",
    "dict = {\n",
    "    5: False,\n",
    "    6: False,\n",
    "    11: True,\n",
    "    12: True,\n",
    "    13: True,\n",
    "    14: False\n",
    "       }\n",
    "\n",
    "plot(H, layout='tree', tree_root=14)"
   ]
  },
  {
   "cell_type": "code",
   "execution_count": 141,
   "metadata": {},
   "outputs": [],
   "source": [
    "######################################\n",
    "########### POMOZNE METODE ###########\n",
    "######################################\n",
    "\n",
    "def isLeaf(c, dict):\n",
    "    return dict.get(c) == None\n",
    "\n",
    "def getChildren(c, H, Bfslist):\n",
    "    '''Input: c node, H graph, Bfslist list of nodes in reverse Bfs order. Output: list of children of c '''\n",
    "    neighbors = H.neighbors(c)\n",
    "    children = []\n",
    "    for u in neighbors:\n",
    "        if Bfslist.index(u) < Bfslist.index(c):\n",
    "            children.append(u)\n",
    "    return children\n",
    "\n",
    "def initializeR( c, children, dict, Bfslist, R, gamma_S, gamma):\n",
    "    '''Input: c node,\n",
    "            children list of children of c,\n",
    "            dict dictionary for U = true; + = False; None = leaf,\n",
    "            Bfslist list of nodes in reverse Bfs order,\n",
    "            R old R list\n",
    "        Output: new R list '''\n",
    "    if dict.get(c):\n",
    "        if len(children) == 2:\n",
    "            if gamma_S[Bfslist.index(children[0])] == 1 and gamma[Bfslist.index(children[1])] == 1:\n",
    "                R[Bfslist.index(c)] = 1\n",
    "            if gamma_S[Bfslist.index(children[1])] == 1 and gamma[Bfslist.index(children[0])] == 1:\n",
    "                R[Bfslist.index(c)] = 1\n",
    "    return R\n",
    "\n",
    "def initializeA (c, children, dict, Bfslist, A, R):\n",
    "    '''Input: c node,\n",
    "                children list of children of c,\n",
    "                dict dictionary for U = true; + = False; None = leaf,\n",
    "                Bfslist list of nodes in reverse Bfs order,\n",
    "                A old A* list\n",
    "        Output: new A* list '''\n",
    "    if isLeaf(c, dict):\n",
    "        A[Bfslist.index(c)] = 1\n",
    "    if dict.get(c) == False:\n",
    "        allChildrenLeaves = false\n",
    "        nonLeafChildren = false\n",
    "        hasR = false\n",
    "        for u in children:\n",
    "            if isLeaf(c, dict):\n",
    "                nonLeafChildren = True\n",
    "            else:\n",
    "                allChildrenLeaves = True\n",
    "            if R[Bfslist.index(u)] == 1:\n",
    "                hasR = True\n",
    "        if allChildrenLeaves:\n",
    "            A[Bfslist.index(c)] = 1\n",
    "        if nonLeafChildren and hasR:\n",
    "            A[Bfslist.index(c)] = 1\n",
    "    return A\n",
    "    \n",
    "def initializeRstar (c, Bfslist, A, Rstar, children):\n",
    "    '''Input: c node,\n",
    "                children list of children of c,\n",
    "                dict dictionary for U = true; + = False; None = leaf,\n",
    "                Bfslist list of nodes in reverse Bfs order,\n",
    "                A A* list,\n",
    "                Rstar R* list\n",
    "        Output: new R* list '''\n",
    "    for u in children:\n",
    "        if A[Bfslist.index(u)] == 1:\n",
    "            Rstar[Bfslist.index(c)] = 1\n",
    "    return Rstar\n",
    "\n",
    "def initializeGamma(c, dict, Bfslist, gamma, children):\n",
    "    if isLeaf(c, dict):\n",
    "        gamma[Bfslist.index(c)] = 1\n",
    "    if dict.get(c):\n",
    "        for u in children:\n",
    "            gamma[Bfslist.index(c)] += gamma[Bfslist.index(u)]\n",
    "    if not dict.get(c):\n",
    "        if atLeastOneChildIsALeaf:\n",
    "            gamma[Bfslist.index(c)] = 1\n",
    "        else:\n",
    "            gamma[Bfslist.index(c)] = 2\n",
    "    return gamma\n",
    "        \n",
    "\n",
    "def allChildrenAreLeaves(children, dict):\n",
    "    allLeaves = true\n",
    "    for u in children:\n",
    "        if not isLeaf(u, dict):\n",
    "            allLeaves = false\n",
    "            break;\n",
    "    return allLeaves\n",
    "\n",
    "def atLeastOneChildIsALeaf(children, dict):\n",
    "    for u in children:\n",
    "        if isLeaf(u, dict):\n",
    "            return True\n",
    "    return False\n",
    "\n",
    "def doesTGcsatisfyPropertyP(c, children, dict, gamma_S, R, Bfslist, H):\n",
    "    counterL = 0\n",
    "    counterR = 0\n",
    "    counterS = 0\n",
    "    for u in children:\n",
    "        if isLeaf(u, dict):\n",
    "            counterL += 1\n",
    "        if R[Bfslist.index(u)] == 1:\n",
    "            counterR += 1\n",
    "        if counterL + counterR == 2:\n",
    "            return True\n",
    "        \n",
    "        if dict.get(u):\n",
    "            subchildren = getChildren(u, H, Bfslist)\n",
    "            if len(subchildren) == 2:\n",
    "                if gamma_S[Bfslist.index(subchildren[0])] == 1 and gamma_S[Bfslist.index(subchildren[1])] == 1:\n",
    "                    counterS += 1\n",
    "        if counterR == 1 and counterS == 1:\n",
    "            return True\n",
    "    return False\n",
    "\n",
    "def calculateQ(c, children, Rstar, gamma, Bfslist):\n",
    "    Q = 0\n",
    "    for u in children:\n",
    "        Q += gamma[Bfslist.index(u)]\n",
    "    if Rstar[Bfslist.index(c)] == 1:\n",
    "        return Q\n",
    "    else:\n",
    "        return Q + 1\n",
    "    "
   ]
  },
  {
   "cell_type": "code",
   "execution_count": 158,
   "metadata": {},
   "outputs": [],
   "source": [
    "def isciGammaS(H, dict, root):\n",
    "    Bfslist = H.lex_BFS(initial_vertex=root, reverse=True)\n",
    "    gamma_S = len(Bfslist) * [0]\n",
    "    gamma = len(Bfslist) * [0]\n",
    "    R = len(Bfslist) * [0]\n",
    "    A = len(Bfslist) * [0]\n",
    "    Rstar = len(Bfslist) * [0]\n",
    "    for c in Bfslist:\n",
    "        children = getChildren(c, H, Bfslist)\n",
    "        R = initializeR(c, children, dict, Bfslist, R, gamma_S, gamma)\n",
    "        A = initializeA (c, children, dict, Bfslist, A, R)\n",
    "        Rstar = initializeRstar (c, Bfslist, A, Rstar, children)\n",
    "        initializeGamma(c, dict, Bfslist, gamma, children)\n",
    "        \n",
    "        if isLeaf(c, dict):                                                    # c is leaf\n",
    "            gamma_S[Bfslist.index(c)] = 1\n",
    "        elif dict.get(c):                                                        # c has label U\n",
    "            for u in children:\n",
    "                gamma_S[Bfslist.index(c)] += gamma_S[Bfslist.index(u)]\n",
    "        elif not dict.get(c):                                                       # c has label +\n",
    "            if allChildrenAreLeaves(children, dict):\n",
    "                gamma_S[Bfslist.index(c)] = 1\n",
    "            elif doesTGcsatisfyPropertyP(c, children, dict, gamma_S, R, Bfslist, H): #T_G(c) has property P\n",
    "                gamma_S[Bfslist.index(c)] = 2\n",
    "            elif len(children) >= 3:\n",
    "                gamma_S[Bfslist.index(c)] = 3\n",
    "            elif isLeaf(children[0], dict) and not isLeaf(children[1], dict):\n",
    "                gamma_S[Bfslist.index(c)] = calculateQ(children[1], getChildren(children[1], H, Bfslist), Rstar, gamma, Bfslist)\n",
    "            elif isLeaf(children[1], dict) and not isLeaf(children[0], dict):\n",
    "                gamma_S[Bfslist.index(c)] = calculateQ(children[0], getChildren(children[0], H, Bfslist), Rstar, gamma, Bfslist)\n",
    "            else:\n",
    "                u1 = children[0]\n",
    "                u2 = children[1]\n",
    "                if (calculateQ(u1, getChildren(u1, H, Bfslist)) == 3 or calculateQ(u2, getChildren(u2, H, Bfslist)) == 3 or gamma_S[Bfslist.index(u1)] == 3 or gamma_S[Bfslist.index(u2)] == 3):\n",
    "                    gamma_S[Bfslist.index(c)] = 3\n",
    "                else:\n",
    "                    gamma_S[Bfslist.index(c)] = 4\n",
    "                                                                                 \n",
    "    return gamma_S"
   ]
  },
  {
   "cell_type": "code",
   "execution_count": 159,
   "metadata": {},
   "outputs": [
    {
     "data": {
      "text/plain": [
       "[1, 1, 1, 1, 1, 1, 1, 2, 1, 1, 1, 1, 1, 1]"
      ]
     },
     "execution_count": 159,
     "metadata": {},
     "output_type": "execute_result"
    }
   ],
   "source": [
    "isciGammaS(H, dict, 14)"
   ]
  },
  {
   "cell_type": "code",
   "execution_count": 160,
   "metadata": {},
   "outputs": [
    {
     "data": {
      "text/plain": [
       "[1, 1, 1, 1, 1, 3, 1, 1, 3, 4, 1, 2]"
      ]
     },
     "execution_count": 160,
     "metadata": {},
     "output_type": "execute_result"
    }
   ],
   "source": [
    "isciGammaS(G, dict, 12)"
   ]
  },
  {
   "cell_type": "code",
   "execution_count": null,
   "metadata": {},
   "outputs": [],
   "source": []
  }
 ],
 "metadata": {
  "kernelspec": {
   "display_name": "SageMath 9.0",
   "language": "sage",
   "name": "sagemath"
  },
  "language_info": {
   "codemirror_mode": {
    "name": "ipython",
    "version": 3
   },
   "file_extension": ".py",
   "mimetype": "text/x-python",
   "name": "python",
   "nbconvert_exporter": "python",
   "pygments_lexer": "ipython3",
   "version": "3.7.3"
  }
 },
 "nbformat": 4,
 "nbformat_minor": 2
}
