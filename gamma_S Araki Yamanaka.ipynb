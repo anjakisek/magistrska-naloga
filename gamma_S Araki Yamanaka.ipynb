{
 "cells": [
  {
   "cell_type": "code",
   "execution_count": 1,
   "metadata": {},
   "outputs": [],
   "source": [
    "def conditionTheorem4_3(s1, g1, q1, s2, g2, q2):\n",
    "    if (s1 == 2 or s2 == 2):\n",
    "        return True\n",
    "    elif (g1 == 1 and g2 == 1):\n",
    "        return True\n",
    "    elif ((g1 == 1 and q2 == 1) or (q1 == 1 and g2 == 1)):\n",
    "        return True\n",
    "    elif (q1 == 1 and q2 == 1):\n",
    "        return True\n",
    "    else:\n",
    "        return False\n",
    "    \n",
    "def conditionTheorem4_4(s1, g1, q1, s2, g2, q2):\n",
    "    if (s1 == 3 or s2 == 3):\n",
    "        return True\n",
    "    elif (g1 == 2 or g2 == 2):\n",
    "        return True\n",
    "    elif (q1 == 2 or q2 == 2):\n",
    "        return True\n",
    "    else:\n",
    "        return False\n",
    "    \n",
    "\n",
    "def calccograph(G, root, dict):\n",
    "    '''G'''\n",
    "#   if root is leaf node\n",
    "    if G.order() == 1:\n",
    "        return (1, 1, 0, 1)\n",
    "    \n",
    "    list = G.neighbors(root)\n",
    "    root1 = list[0]\n",
    "    root2 = list[1]\n",
    "    \n",
    "    G.delete_vertex(root)\n",
    "    komponente = G.connected_components(sort=False)\n",
    "    if (G.subgraph(komponente[0]).has_vertex(root1)):\n",
    "        (s1, g1, q1, n1) = calccograph(G.subgraph(komponente[0]), root1, dict)\n",
    "        (s2, g2, q2, n2) = calccograph(G.subgraph(komponente[1]), root2, dict)\n",
    "    else:\n",
    "        (s1, g1, q1, n1) = calccograph(G.subgraph(komponente[0]), root2, dict)\n",
    "        (s2, g2, q2, n2) = calccograph(G.subgraph(komponente[1]), root1, dict)\n",
    "    if dict[root]:\n",
    "        return (s1 + s2, g1 + g2, min(q1 + g2, q2 + g1), n1 + n2)\n",
    "    else:\n",
    "        # gammaS\n",
    "        if (s1 == 1 and s2 == 1):\n",
    "            gammaS = 1\n",
    "        elif (s1 == 1 and s2 >= 2):\n",
    "            if n1 == 1:\n",
    "                gammaS = min(g2 + 1, s2, q2 + 1)\n",
    "            else:\n",
    "                gammaS = 2\n",
    "        elif (s2 == 1 and s1 >= 2):\n",
    "            if n1 == 1:\n",
    "                gammaS = min(g1 + 1, s1, q1 + 1)\n",
    "            else:\n",
    "                gammaS = 2\n",
    "        else:\n",
    "            if conditionTheorem4_3(s1, g1, q1, s2, g2, q2):\n",
    "                gammaS = 2\n",
    "            elif conditionTheorem4_4(s1, g1, q1, s2, g2, q2):\n",
    "                gammaS = 3\n",
    "            else:\n",
    "                gammaS = 4\n",
    "        \n",
    "        # gamma\n",
    "        if (g1 == 1 or g2 == 1):\n",
    "            gamma = 1\n",
    "        else:\n",
    "            gamma = 2\n",
    "        \n",
    "        # q\n",
    "        if (q1 == 0 or q2 == 0):\n",
    "            q = max(q1, q2)\n",
    "        else:\n",
    "            q = min(q1, q2)\n",
    "        return (gammaS, gamma, q, n1 + n2)"
   ]
  },
  {
   "cell_type": "code",
   "execution_count": 2,
   "metadata": {},
   "outputs": [
    {
     "data": {
      "image/png": "[encoded data removed]",
      "text/plain": [
       "Graphics object consisting of 62 graphics primitives"
      ]
     },
     "execution_count": 2,
     "metadata": {},
     "output_type": "execute_result"
    }
   ],
   "source": [
    "H = Graph({\n",
    "    \"a\" : [1],\n",
    "    \"b\" : [1],\n",
    "    \"c\" : [2],\n",
    "    \"d\" : [2],\n",
    "    \"e\" : [7],\n",
    "    \"f\" : [3],\n",
    "    \"g\" : [3],\n",
    "    \"h\" : [4],\n",
    "    \"i\" : [4],\n",
    "    \"j\" : [5],\n",
    "    \"k\" : [5],\n",
    "    \"l\" : [6],\n",
    "    \"m\" : [6],\n",
    "    \"n\" : [8],\n",
    "    \"o\" : [9],\n",
    "    \"p\" : [11],\n",
    "    1: [\"a\", \"b\", 14],\n",
    "    2: [\"c\", \"d\", 12],\n",
    "    3: [\"f\", \"g\", 7],\n",
    "    4: [\"h\", \"i\", 10],\n",
    "    5: [\"j\", \"k\", 13],\n",
    "    6:[\"l\", \"m\", 8],\n",
    "    7:[\"e\", 3, 10],\n",
    "    8: [\"n\", 6, 9],\n",
    "    9: [\"o\", 8, 11],\n",
    "    10: [7, 4, 12],\n",
    "    11: [9, \"p\", 13],\n",
    "    12:[2, 10, 14],\n",
    "    13:[5, 11, 15],\n",
    "    14:[1, 12, 15],\n",
    "    15:[14, 13]\n",
    "    \n",
    "})\n",
    "\n",
    "dict = {\n",
    "    1: False,\n",
    "    2: True,\n",
    "    3: True,\n",
    "    4: False,\n",
    "    5: False,\n",
    "    6: True,\n",
    "    7: False,\n",
    "    8: False,\n",
    "    9: True,\n",
    "    10: True,\n",
    "    11: False,\n",
    "    12: False,\n",
    "    13: True,\n",
    "    14: True,\n",
    "    15: False\n",
    "       }\n",
    "\n",
    "plot(H, layout='tree', tree_root=15)"
   ]
  },
  {
   "cell_type": "code",
   "execution_count": 3,
   "metadata": {},
   "outputs": [
    {
     "data": {
      "text/plain": [
       "(3, 2, 1, 16)"
      ]
     },
     "execution_count": 3,
     "metadata": {},
     "output_type": "execute_result"
    }
   ],
   "source": [
    "calccograph(H, 15, dict)"
   ]
  }
 ],
 "metadata": {
  "kernelspec": {
   "display_name": "SageMath 9.0",
   "language": "sage",
   "name": "sagemath"
  },
  "language_info": {
   "codemirror_mode": {
    "name": "ipython",
    "version": 3
   },
   "file_extension": ".py",
   "mimetype": "text/x-python",
   "name": "python",
   "nbconvert_exporter": "python",
   "pygments_lexer": "ipython3",
   "version": "3.7.3"
  }
 },
 "nbformat": 4,
 "nbformat_minor": 2
}
